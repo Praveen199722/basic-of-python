{
 "cells": [
  {
   "cell_type": "code",
   "execution_count": 1,
   "metadata": {},
   "outputs": [],
   "source": [
    "#print  correct if i==10"
   ]
  },
  {
   "cell_type": "code",
   "execution_count": 2,
   "metadata": {},
   "outputs": [
    {
     "name": "stdout",
     "output_type": "stream",
     "text": [
      "value:10\n",
      "correct\n"
     ]
    }
   ],
   "source": [
    "num=int(input(\"value:\"))\n",
    "if(num==10):\n",
    "    print(\"correct\")"
   ]
  },
  {
   "cell_type": "code",
   "execution_count": 3,
   "metadata": {},
   "outputs": [],
   "source": [
    "#check the password,using if and else"
   ]
  },
  {
   "cell_type": "code",
   "execution_count": 11,
   "metadata": {},
   "outputs": [
    {
     "name": "stdout",
     "output_type": "stream",
     "text": [
      "enter the password:hope@123\n",
      "your password is correct\n"
     ]
    }
   ],
   "source": [
    "num=(input(\"enter the password:\"))\n",
    "if num==\"hope@123\":\n",
    "    print(\"your password is correct\")\n",
    "else:\n",
    "    print(\"your password is wrong\")"
   ]
  },
  {
   "cell_type": "code",
   "execution_count": 13,
   "metadata": {},
   "outputs": [],
   "source": [
    "#category the people by their age like children,adult,citizen,senior citizen..."
   ]
  },
  {
   "cell_type": "code",
   "execution_count": 3,
   "metadata": {},
   "outputs": [
    {
     "name": "stdout",
     "output_type": "stream",
     "text": [
      "age:20\n",
      "adult\n"
     ]
    }
   ],
   "source": [
    "num=int(input(\"age:\"))\n",
    "if(num<18):\n",
    "    print(\"baby\")\n",
    "elif(num>18-45):\n",
    "    print(\"adult\")\n",
    "else:\n",
    "    print(\"old\")\n",
    "\n",
    "        "
   ]
  },
  {
   "cell_type": "code",
   "execution_count": 15,
   "metadata": {},
   "outputs": [],
   "source": [
    "#find whether given number is positive or negative"
   ]
  },
  {
   "cell_type": "code",
   "execution_count": 4,
   "metadata": {},
   "outputs": [
    {
     "name": "stdout",
     "output_type": "stream",
     "text": [
      "Enter any number1\n",
      "No is  positive\n"
     ]
    }
   ],
   "source": [
    "num=int(input('Enter any number'))\n",
    "if(num%2==0):\n",
    "        print(\" no is negative\")\n",
    "else:\n",
    "        print(\"No is  positive\")"
   ]
  },
  {
   "cell_type": "code",
   "execution_count": 5,
   "metadata": {},
   "outputs": [],
   "source": [
    "#check whether the given number is divisible by 5"
   ]
  },
  {
   "cell_type": "code",
   "execution_count": 7,
   "metadata": {},
   "outputs": [
    {
     "name": "stdout",
     "output_type": "stream",
     "text": [
      "Enter a number to check:22\n",
      "No is not divisible by 5\n"
     ]
    }
   ],
   "source": [
    "num=int(input(\"Enter a number to check:\"))\n",
    "if(num%5==0):\n",
    "        print(\"divisible by 5\")\n",
    "else:\n",
    "        print(\"No is not divisible by 5\")"
   ]
  },
  {
   "cell_type": "code",
   "execution_count": null,
   "metadata": {},
   "outputs": [],
   "source": []
  }
 ],
 "metadata": {
  "kernelspec": {
   "display_name": "Python 3",
   "language": "python",
   "name": "python3"
  },
  "language_info": {
   "codemirror_mode": {
    "name": "ipython",
    "version": 3
   },
   "file_extension": ".py",
   "mimetype": "text/x-python",
   "name": "python",
   "nbconvert_exporter": "python",
   "pygments_lexer": "ipython3",
   "version": "3.7.4"
  }
 },
 "nbformat": 4,
 "nbformat_minor": 2
}
